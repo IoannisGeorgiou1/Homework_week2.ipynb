{
  "nbformat": 4,
  "nbformat_minor": 0,
  "metadata": {
    "colab": {
      "provenance": [],
      "include_colab_link": true
    },
    "kernelspec": {
      "name": "python3",
      "display_name": "Python 3"
    },
    "language_info": {
      "name": "python"
    }
  },
  "cells": [
    {
      "cell_type": "markdown",
      "metadata": {
        "id": "view-in-github",
        "colab_type": "text"
      },
      "source": [
        "<a href=\"https://colab.research.google.com/github/IoannisGeorgiou1/Homework_week2.ipynb/blob/main/Homework_week2.ipynb\" target=\"_parent\"><img src=\"https://colab.research.google.com/assets/colab-badge.svg\" alt=\"Open In Colab\"/></a>"
      ]
    },
    {
      "cell_type": "markdown",
      "source": [
        "**Άσκηση 1**\n",
        "\n",
        "1. Σε ένα νέο κελί κώδικα, ξαναγράψτε τον παρακάτω κώδικα, έτσι ώστε να τρέχει χωρίς να πετάει error."
      ],
      "metadata": {
        "id": "RNY03X7pKHnf"
      }
    },
    {
      "cell_type": "code",
      "source": [
        "my name = \"Vasilis\"\n",
        "my-email = bill2005@example.com\n",
        "myAM_4first#digits = 9983\n",
        "2FavoriteMovies = \"Life of Bryan,\" + \" The meaning of life\""
      ],
      "metadata": {
        "id": "1duhjtEIKNJx"
      },
      "execution_count": null,
      "outputs": []
    },
    {
      "cell_type": "code",
      "source": [
        "my_name = \"Vasilis\"\n",
        "my_email = \"bill2005@example.com\"\n",
        "myAm_4first = 9983\n",
        "two_favorite_movies = \"life_of_Bryran\" + \"The_meaning_of_life\""
      ],
      "metadata": {
        "id": "oizVAi0T4Ckr"
      },
      "execution_count": null,
      "outputs": []
    },
    {
      "cell_type": "markdown",
      "source": [
        "2. Tυπώστε (print) τον τύπο δεδομένων καθεμιάς από τις παραπάνω μεταβλητές"
      ],
      "metadata": {
        "id": "uWOJYGCtPaS8"
      }
    },
    {
      "cell_type": "code",
      "source": [
        "my_name = \"Vasilis\"\n",
        "my_email = \"bill2005@example.com\"\n",
        "myAm_4first = 9983\n",
        "two_favorite_movies = \"life_of_Bryran\" + \"The_meaning_of_life\"\n",
        "print(type(my_name))\n",
        "print(type(my_email))\n",
        "print(type(myAm_4first))\n",
        "print(type(two_favorite_movies))"
      ],
      "metadata": {
        "colab": {
          "base_uri": "https://localhost:8080/"
        },
        "id": "m0ghIvwTsOyy",
        "outputId": "33b180bb-e9b1-4ca7-f5ab-72dfaa677358"
      },
      "execution_count": null,
      "outputs": [
        {
          "output_type": "stream",
          "name": "stdout",
          "text": [
            "<class 'str'>\n",
            "<class 'str'>\n",
            "<class 'int'>\n",
            "<class 'str'>\n"
          ]
        }
      ]
    },
    {
      "cell_type": "code",
      "source": [],
      "metadata": {
        "id": "LpckG8EJrzhS"
      },
      "execution_count": null,
      "outputs": []
    },
    {
      "cell_type": "markdown",
      "source": [
        "**Άσκηση 2**\n",
        "- Βρείτε ένα άρθρο σε ένα ειδησεογραφικό site.\n",
        "- Φτιάξτε ένα νέο κελί κώδικα (ή όσα θέλετε) ακριβώς κάτω από αυτό και δημιουργήστε μεταβλητές με τα εξής στοιχεία:\n",
        "  - Τίτλος άρθρου\n",
        "  - Ημερομηνία δημοσίευσης\n",
        "  - Όνομα site\n",
        "  - url άρθρου\n",
        "- Τυπώστε (print) μια πρόταση της μορφής: Το άρθρο τάδε δημοσιεύτηκε στο τάδε site την τάδε ημερομηνία και βρίσκεται στην τάδε ηλεκτρονική διεύθυνση."
      ],
      "metadata": {
        "id": "iKYSWrCOLxwA"
      }
    },
    {
      "cell_type": "code",
      "source": [
        "Title_Article = \"Πού θα βρεις τα καλύτερα cheescake\"\n",
        "Date_pub = \"25/03/2024\"\n",
        "Name_site = \"oneman\"\n",
        "Url_site = \"https://www.oneman.gr/onecity/gefsi/pou-tha-vreis-ta-kalitera-cheesecakes-stin-athina/?utm_source=News247&utm_medium=exodos-extra&utm_campaign=24MediaWidget&utm_term=Pos1\"\n",
        "print(\"Το άρθρο ''\" + Title_Article + \"'' δημοσιεύτηκε στο \" + Name_site + \" την \" + Date_pub + \" και βρίσκεται στην \" + Url_site)\n"
      ],
      "metadata": {
        "colab": {
          "base_uri": "https://localhost:8080/"
        },
        "id": "TbeNZ7m_u5Tb",
        "outputId": "63956146-fd54-4328-da37-803a60ff7a96"
      },
      "execution_count": null,
      "outputs": [
        {
          "output_type": "stream",
          "name": "stdout",
          "text": [
            "Το άρθρο ''Πού θα βρεις τα καλύτερα cheescake'' δημοσιεύτηκε στο oneman την 25/03/2024 και βρίσκεται στην https://www.oneman.gr/onecity/gefsi/pou-tha-vreis-ta-kalitera-cheesecakes-stin-athina/?utm_source=News247&utm_medium=exodos-extra&utm_campaign=24MediaWidget&utm_term=Pos1\n"
          ]
        }
      ]
    },
    {
      "cell_type": "markdown",
      "source": [
        "**Άσκηση 3**\n",
        "\n",
        "Σε ένα νέο κελί, μετατρέψτε τον τύπο της μεταβλητής ή των μεταβλητών που απαιτείται, έτσι ώστε να μπορεί να εκτελεστεί σωστά η παρακάτω πράξη:\n",
        "\n",
        "(μην γράψετε σωστά την τιμή της/τους - αλλάξτε τον τύπο δεδομένων)\n",
        "(Tip: κάνετε copy-paste τις 2 τελευταίες γραμμές και κάνετε τη διόρθωση που απαιτείται στην προτελευταία γραμμή)"
      ],
      "metadata": {
        "id": "pklY5u3eQKLZ"
      }
    },
    {
      "cell_type": "code",
      "source": [
        "monthly_rent = \"300\"\n",
        "months = 12\n",
        "yearly_rent = monthly_rent * months\n",
        "print(yearly_rent)"
      ],
      "metadata": {
        "colab": {
          "base_uri": "https://localhost:8080/"
        },
        "id": "aLfDQbayNkVd",
        "outputId": "36059344-ef79-49c7-e169-eaf4a0078856"
      },
      "execution_count": null,
      "outputs": [
        {
          "output_type": "stream",
          "name": "stdout",
          "text": [
            "300300300300300300300300300300300300\n"
          ]
        }
      ]
    },
    {
      "cell_type": "code",
      "source": [
        "monthly_rent = \"300\"\n",
        "months = 12\n",
        "yearly_rent = int(monthly_rent) * months\n",
        "print(yearly_rent)"
      ],
      "metadata": {
        "colab": {
          "base_uri": "https://localhost:8080/"
        },
        "id": "fExyBAvFzOcZ",
        "outputId": "ea5dc983-e962-4890-e845-2ae698750ad9"
      },
      "execution_count": null,
      "outputs": [
        {
          "output_type": "stream",
          "name": "stdout",
          "text": [
            "3600\n"
          ]
        }
      ]
    },
    {
      "cell_type": "markdown",
      "source": [
        "**Άσκηση 4**\n",
        "\n",
        "1. Βρείτε το αποτέλεσμα της πρόσθεσης του 132 με το 13 και τυπώστε το σαν string (σε μία γραμμή κώδικα)\n",
        "2. Βρείτε το τετράγωνο του πηλίκου της διαίρεσης του παραπάνω αθροίσματος με το υπόλοιπο της διαίρεσης του 132 με το 13 και τυπώστε το σαν δεκαδικό (σε μια γραμμή κώδικα)\n",
        "\n",
        "Tip: μπορείτε να κάνετε μία-μία τις πράξεις ώστε να ελέγχετε ότι το αποτέλεσμα της καθεμίας είναι σωστό και στο τέλος να βάλετε όλες τις εντολές σε μία γραμμή (αναγκαστικά θα υπάρχουν πολλές παρενθέσεις)"
      ],
      "metadata": {
        "id": "4-MexfUhUJr5"
      }
    },
    {
      "cell_type": "code",
      "source": [
        "a = 132\n",
        "b = 13\n",
        "sum = a + b\n",
        "print(\"sum to str:\", type(str(sum)), \",\", \"value =\", str(sum))\n",
        "piliko = a//b\n",
        "ypoloipo = a%b\n",
        "tetr = float(piliko**ypoloipo)\n",
        "print(\"Το τετράγωνο του πηλίκου της διαίρεσης του 132 με το 13 με το υπόλοιπο της διαίρεσης του 132 με το 13 είναι : \" + str(tetr))\n",
        "\n"
      ],
      "metadata": {
        "colab": {
          "base_uri": "https://localhost:8080/"
        },
        "id": "SlkAfmfez-sp",
        "outputId": "9288f2c8-363e-46da-d99f-be2b9616c605"
      },
      "execution_count": null,
      "outputs": [
        {
          "output_type": "stream",
          "name": "stdout",
          "text": [
            "sum to str: <class 'str'> , value = 145\n",
            "Το τετράγωνο του πηλίκου της διαίρεσης του 132 με το 13 με το υπόλοιπο της διαίρεσης του 132 με το 13 είναι : 100.0\n"
          ]
        }
      ]
    },
    {
      "cell_type": "markdown",
      "source": [
        "**Άσκηση 5**\n",
        "\n",
        "Γράψτε μια γραμμή κώδικα κάτω από το παρακάτω κελί, έτσι ώστε κάθε φορά που θα το τρέχετε, να τυπώνετε (print) η τιμή της μεταβητής counter αυξημένη κατά 1."
      ],
      "metadata": {
        "id": "i9uTmCdLa1F6"
      }
    },
    {
      "cell_type": "code",
      "source": [
        "counter = 1"
      ],
      "metadata": {
        "id": "-Y0-XA9CbNFw"
      },
      "execution_count": null,
      "outputs": []
    },
    {
      "cell_type": "code",
      "source": [
        "# γράψτε τη ζητούμενη εντολή ακριβώς κάτω από τα σχόλια και πριν την εντολή print(counter)\n",
        "# και τρέξτε το κελί 5-6 φορές\n",
        "# κάθε φορά που το τρέχετε, θα πρέπει ο αριθμός που τυπώνεται να είναι μεγαλύτερος από τον προηγούμενο κατά 1\n",
        "counter += 1\n",
        "print(counter)\n"
      ],
      "metadata": {
        "id": "LkXxdJgUbvkQ",
        "colab": {
          "base_uri": "https://localhost:8080/"
        },
        "outputId": "4c83a3e7-ae97-48d3-dc67-2397b3c26df7"
      },
      "execution_count": null,
      "outputs": [
        {
          "output_type": "stream",
          "name": "stdout",
          "text": [
            "2\n"
          ]
        }
      ]
    }
  ]
}